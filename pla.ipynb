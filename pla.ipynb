{
 "cells": [
  {
   "cell_type": "markdown",
   "metadata": {},
   "source": [
    "# Perceptron Learning Algorithm (PLA) 演算法\n",
    "\n",
    "利用準備好的工具，實作 PLA 演算法，演算法細節可以參考林軒田老師的[機器學習基石](https://www.youtube.com/watch?v=WlpF1Phkv28&list=PLXVfgk9fNX2I7tB6oIINGBmW50rrmFTqf&index=6)影片。\n",
    "\n",
    "# 二維 PLA 展示"
   ]
  },
  {
   "cell_type": "code",
   "execution_count": 1,
   "metadata": {},
   "outputs": [],
   "source": [
    "# 載入準備好的工具\n",
    "import sys\n",
    "sys.path.append('.prepared')\n",
    "import pla as prepared\n",
    "import numpy as np\n",
    "import pandas as pd   \n",
    "from numpy import *\n",
    "import random"
   ]
  },
  {
   "cell_type": "code",
   "execution_count": 2,
   "metadata": {},
   "outputs": [],
   "source": [
    "# 重置預先準備好的 PLA 示範模型\n",
    "#prepared.reset()"
   ]
  },
  {
   "cell_type": "code",
   "execution_count": 3,
   "metadata": {},
   "outputs": [],
   "source": [
    "# 更新該 PLA 模型\n",
    "#prepared.update()\n",
    "\n",
    "# 繪製該 PLA 模型\n",
    "#prepared.plot()\n",
    "\n",
    "# 執行多次觀察 PLA 模型迭代的過程，收斂後可以執行上面程式區段執行重置模型"
   ]
  },
  {
   "cell_type": "markdown",
   "metadata": {},
   "source": [
    "# 動手做\n",
    "\n",
    "完成下面程式區段的 `pla()`，並用其取代 `prepared.demo()`。注意由上往下尋找預測錯誤的資料，更新之後從下一筆繼續尋找，答案才會跟 `prepared.demo()` 完全一致。"
   ]
  },
  {
   "cell_type": "code",
   "execution_count": 10,
   "metadata": {
    "scrolled": true
   },
   "outputs": [
    {
     "name": "stdout",
     "output_type": "stream",
     "text": [
      "N26064309 陳威廷 \n",
      "My answer is : [-3.         3.0841436 -1.583081   2.391305   4.5287635]\n",
      "TA answer is : #45 [-3.          3.08414355 -1.58308104  2.39130508  4.52876345]\n"
     ]
    }
   ],
   "source": [
    "def pla():\n",
    "    # TODO: start coding here... \n",
    "    # the first thing is to read `pla.dat`\n",
    "    #f  = open('./pla.dat', 'r')\n",
    "    #print(f.read())\n",
    "    \n",
    "    ##此部分使用我個人相對熟悉的方式讀取資料\n",
    "    aaa = pd.read_csv('pla.dat',sep = \" \",encoding = 'utf-8',header=None)        \n",
    "    aaa.columns=[\"x1\", \"x2\", \"x3\", \"x4\", \"x5\"]\n",
    "    \n",
    "    #設定初始\n",
    "    x=np.zeros(shape=(400,6))\n",
    "\n",
    "    #餵資料\n",
    "    for i in range(400):\n",
    "        x[i][0]=1\n",
    "        x[i][1]=aaa.x1[i]\n",
    "        x[i][2]=aaa.x2[i]\n",
    "        x[i][3]=aaa.x3[i]\n",
    "        x[i][4]=aaa.x4[i]\n",
    "        x[i][5]=aaa.x5[i]\n",
    "        \n",
    "    W=np.array([1 ,0.97681 ,0.10723 ,0.64385 ,0.29556]) #依照助教要求 設定初始值\n",
    "    \n",
    "    dataset=x\n",
    "    \n",
    "    while True:\n",
    "              \n",
    "        iscompleted=True #判斷是否完成\n",
    "        \n",
    "        for i in range(0,len(dataset)):\n",
    "            \n",
    "            # X:前面的值 Y:class\n",
    "            X=dataset[i][:-1]\n",
    "            #print(X)\n",
    "            Y=np.dot(W,X) #內積\n",
    "            \n",
    "            #判斷是否預測正確 否則更新W\n",
    "            if sign(Y)==sign(dataset[i][-1]): \n",
    "                continue\n",
    "            else:\n",
    "                iscompleted=False\n",
    "                W=W+(dataset[i][-1])*np.array(X) #更新W\n",
    "                \n",
    "        if iscompleted:\n",
    "            break\n",
    "            \n",
    "    print(\"N26064309 陳威廷 \")        \n",
    "    print(\"My answer is :\",W)\n",
    "    print(\"TA answer is : #45 [-3.          3.08414355 -1.58308104  2.39130508  4.52876345]\")\n",
    "    return W\n",
    "\n",
    "\n",
    "    \n",
    "if True: # TODO: change `False` to `True` once you finish `pla()`\n",
    "    pla()\n",
    "else:\n",
    "    prepared.demo()"
   ]
  },
  {
   "cell_type": "code",
   "execution_count": null,
   "metadata": {},
   "outputs": [],
   "source": []
  }
 ],
 "metadata": {
  "kernelspec": {
   "display_name": "Python 3",
   "language": "python",
   "name": "python3"
  },
  "language_info": {
   "codemirror_mode": {
    "name": "ipython",
    "version": 3
   },
   "file_extension": ".py",
   "mimetype": "text/x-python",
   "name": "python",
   "nbconvert_exporter": "python",
   "pygments_lexer": "ipython3",
   "version": "3.5.2"
  }
 },
 "nbformat": 4,
 "nbformat_minor": 2
}
